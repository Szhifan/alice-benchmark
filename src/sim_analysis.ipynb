{
 "cells": [
  {
   "cell_type": "markdown",
   "id": "755be433",
   "metadata": {},
   "source": [
    "# Similarity analysis with raw sentence embeddings "
   ]
  },
  {
   "cell_type": "code",
   "execution_count": null,
   "id": "3a15226b",
   "metadata": {},
   "outputs": [],
   "source": [
    "from sentence_transformers import SentenceTransformer\n",
    "import pandas as pd\n",
    "import os\n",
    "os.chdir('/home/szhifan/asap-rubric')\n",
    "\n"
   ]
  },
  {
   "cell_type": "code",
   "execution_count": null,
   "id": "4a5dbd73",
   "metadata": {},
   "outputs": [],
   "source": [
    "path_train = \"data/train.tsv\"\n",
    "path_test = \"data/public_leaderboard.tsv\"\n",
    "path_test_score = \"data/public_leaderboard_solution.csv\"\n",
    "train_df = pd.read_csv(path_train, sep=\"\\t\")\n",
    "train_df = train_df.rename(columns={\"Score1\": \"score\"})\n",
    "train_df = train_df.drop(columns=[\"Score2\"])\n",
    "\n",
    "test_df = pd.read_csv(path_test, sep=\"\\t\")\n",
    "test_score_df = pd.read_csv(path_test_score)\n",
    "test_df = pd.concat([test_df, test_score_df], axis=1)\n",
    "test_df = test_df.drop(columns=[\"id\", \"essay_set\", \"Usage\"])\n",
    "test_df = test_df.rename(columns={\"essay_score\": \"score\"}) \n",
    "print(test_df.columns) \n",
    "print(train_df.columns)"
   ]
  },
  {
   "cell_type": "code",
   "execution_count": null,
   "id": "bb7164eb",
   "metadata": {},
   "outputs": [],
   "source": [
    "from sentence_transformers import SentenceTransformer\n",
    "from sklearn.decomposition import PCA\n",
    "from sklearn.cluster import KMeans\n",
    "from sklearn.metrics import homogeneity_score\n",
    "from sklearn.metrics.pairwise import cosine_similarity\n",
    "import numpy as np\n",
    "import pandas as pd\n",
    "\n",
    "# # question set 1 \n",
    "# test_df = test_df[test_df[\"EssaySet\"] == 1]\n",
    "# initialize the sentence embedding model\n",
    "model = SentenceTransformer('all-MiniLM-L6-v2')\n",
    "# encode the essays for set 1\n",
    "# embeddings = model.encode(\n",
    "#     test_df[\"EssayText\"].tolist(),\n",
    "#     show_progress_bar=True\n",
    "# )\n",
    "# # turn embeddings into a DataFrame aligned with scores\n",
    "# emb_df = pd.DataFrame(embeddings, index=test_df.index)\n",
    "# emb_df['score'] = test_df['score'].values\n",
    "\n",
    "# # compute the mean embedding vector for each score value\n",
    "# mean_emb = emb_df.groupby('score').mean()\n",
    "\n",
    "# # compute pairwise cosine‐similarity between those mean vectors\n",
    "# sim_matrix = pd.DataFrame(\n",
    "#     cosine_similarity(mean_emb.values),\n",
    "#     index=mean_emb.index,\n",
    "#     columns=mean_emb.index\n",
    "# )\n",
    "\n",
    "# print(\"Cosine similarity between score groups:\")\n",
    "# print(sim_matrix)\n",
    "\n"
   ]
  },
  {
   "cell_type": "markdown",
   "id": "88ccb919",
   "metadata": {},
   "source": [
    "# Similarity analysis with trained bert "
   ]
  },
  {
   "cell_type": "code",
   "execution_count": null,
   "id": "bd260f89",
   "metadata": {},
   "outputs": [],
   "source": [
    "# prepare dataset and model\n",
    "from src.data_prep import Asap_Dataset\n",
    "from transformers import BertTokenizer, BertForSequenceClassification\n",
    "import torch\n",
    "DEFAULT_DEVICE = torch.device(\"cuda\" if torch.cuda.is_available() else \"cpu\")\n",
    "asap = Asap_Dataset() \n",
    "asap.merge_scores()\n",
    "tokenizer = BertTokenizer.from_pretrained('bert-base-uncased')\n",
    "num_labels = 2 \n",
    "model = BertForSequenceClassification.from_pretrained('bert-base-uncased', num_labels=num_labels)"
   ]
  },
  {
   "cell_type": "code",
   "execution_count": 18,
   "id": "fa8b1a51",
   "metadata": {},
   "outputs": [],
   "source": [
    "# build optimizer and scheduler\n",
    "from transformers import get_linear_schedule_with_warmup\n",
    "from torch.optim import AdamW\n",
    "def build_optimizer(model, args,total_steps):\n",
    "    # Prepare optimizer and schedule (linear warmup and decay)\n",
    "    no_decay = [\"bias\", \"LayerNorm.weight\"]\n",
    "    optimizer_grouped_parameters = [\n",
    "        {\n",
    "            \"params\": [\n",
    "                p for n, p in model.named_parameters() if not any(nd in n for nd in no_decay) and \"classifier\" not in n\n",
    "            ],\n",
    "            \"weight_decay\": args.weight_decay,\n",
    "            \"lr\": args.lr,\n",
    "        },\n",
    "        {\n",
    "            \"params\": [p for n, p in model.named_parameters() if any(nd in n for nd in no_decay) and \"classifier\" not in n],\n",
    "            \"weight_decay\": 0.0,\n",
    "            \"lr\": args.lr,\n",
    "        },\n",
    "        {\n",
    "            \"params\": [p for n, p in model. named_parameters() if \"classifier\" in n],\n",
    "            \"weight_decay\": args.weight_decay,\n",
    "            \"lr\": args.lr2,\n",
    "        },\n",
    "    ]\n",
    "\n",
    "    optimizer = AdamW(optimizer_grouped_parameters, lr=args.lr, eps=args.adam_epsilon)\n",
    "    scheduler = get_linear_schedule_with_warmup(\n",
    "        optimizer,\n",
    "        num_warmup_steps=args.warmup_proportion * total_steps,\n",
    "        num_training_steps=total_steps,\n",
    "    )\n",
    "    # if checkpoint path is provided, load optimizer and scheduler states\n",
    "    if args.checkpoint is not None:\n",
    "        checkpoint_path = os.path.join(args.checkpoint, \"checkpoint\")\n",
    "        if os.path.exists(checkpoint_path):\n",
    "            optimizer_path = os.path.join(checkpoint_path, \"optimizer.pt\")\n",
    "            scheduler_path = os.path.join(checkpoint_path, \"scheduler.pt\")\n",
    "            if os.path.isfile(optimizer_path) and os.path.isfile(scheduler_path):\n",
    "                map_location = DEFAULT_DEVICE\n",
    "                optimizer.load_state_dict(torch.load(optimizer_path, map_location=map_location))\n",
    "                scheduler.load_state_dict(torch.load(scheduler_path, map_location=map_location))\n",
    "                print(\"Loaded optimizer and scheduler from checkpoint.\")\n",
    "\n",
    "    # Check if saved optimizer or scheduler states exist\n",
    "    if os.path.isfile(os.path.join(args.save_dir, \"checkpoint/optimizer.pt\")) and os.path.isfile(\n",
    "        os.path.join(args.save_dir, \"checkpoint/scheduler.pt\")\n",
    "    ):\n",
    "        map_location = DEFAULT_DEVICE\n",
    "        optimizer_path = os.path.join(args.save_dir, \"checkpoint/optimizer.pt\")\n",
    "        scheduler_path = os.path.join(args.save_dir, \"checkpoint/scheduler.pt\")\n",
    "        # Load in optimizer and scheduler states\n",
    "        optimizer.load_state_dict(torch.load(optimizer_path, map_location=map_location))\n",
    "        scheduler.load_state_dict(torch.load(scheduler_path, map_location=map_location))\n",
    "        print(\"Loaded the saved scheduler and optimizer.\")\n",
    "    return optimizer, scheduler "
   ]
  },
  {
   "cell_type": "code",
   "execution_count": 29,
   "id": "064c7425",
   "metadata": {},
   "outputs": [
    {
     "name": "stdout",
     "output_type": "stream",
     "text": [
      "Min length: 53, Max length: 9923, Mean length: 233.83855681206248, Std length: 193.36837899267653\n"
     ]
    },
    {
     "data": {
      "image/png": "[encoded data removed]",
      "text/plain": [
       "<Figure size 1000x600 with 1 Axes>"
      ]
     },
     "metadata": {},
     "output_type": "display_data"
    }
   ],
   "source": [
    "import matplotlib.pyplot as plt\n",
    "import numpy as np\n",
    "import pandas as pd\n",
    "import json \n",
    "import os\n",
    "from src.data_prep_alice import AliceRubricPointer\n",
    "os.chdir('/home/szhifan/asap-rubric')\n",
    "from nltk.tokenize import word_tokenize\n",
    "from transformers import AutoTokenizer\n",
    "tokenizer = AutoTokenizer.from_pretrained(\"bert-base-multilingual-uncased\")\n",
    " \n",
    "dts = AliceRubricPointer()\n",
    "dts.get_encoding(tokenizer=tokenizer)\n",
    "train_dataset = dts.train\n",
    "input_ids = train_dataset[\"input_ids\"]\n",
    "input_len = [len(ids) for ids in input_ids]\n",
    "min_len = min(input_len)\n",
    "max_len = max(input_len)\n",
    "mean_len = np.mean(input_len)\n",
    "std_len = np.std(input_len)\n",
    "print(f\"Min length: {min_len}, Max length: {max_len}, Mean length: {mean_len}, Std length: {std_len}\")\n",
    "# Plot the distribution of input lengths\n",
    "plt.figure(figsize=(10, 6))\n",
    "plt.hist(input_len, bins=500, color='blue', alpha=0.7, edgecolor='black')\n",
    "plt.title('Distribution of Input Lengths')\n",
    "plt.xlabel('Input Length')\n",
    "plt.ylabel('Frequency')\n",
    "plt.xlim(0, 2500)\n",
    "plt.grid(axis='y', alpha=0.75)\n",
    "plt.show()"
   ]
  }
 ],
 "metadata": {
  "kernelspec": {
   "display_name": "work",
   "language": "python",
   "name": "python3"
  },
  "language_info": {
   "codemirror_mode": {
    "name": "ipython",
    "version": 3
   },
   "file_extension": ".py",
   "mimetype": "text/x-python",
   "name": "python",
   "nbconvert_exporter": "python",
   "pygments_lexer": "ipython3",
   "version": "3.12.9"
  }
 },
 "nbformat": 4,
 "nbformat_minor": 5
}
